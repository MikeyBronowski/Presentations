{
    "metadata": {
        "kernelspec": {
            "name": "powershell",
            "display_name": "PowerShell",
            "language": "powershell"
        },
        "language_info": {
            "name": "powershell",
            "codemirror_mode": "shell",
            "mimetype": "text/x-sh",
            "file_extension": ".ps1"
        }
    },
    "nbformat_minor": 2,
    "nbformat": 4,
    "cells": [
        {
            "cell_type": "markdown",
            "source": [
                "<a id='top'></a>\n",
                "[01. Install ImportExcel module from PowerShell Galery](#01)\n",
                "\n",
                ">[Install](#0101)\n",
                "\n",
                ">[[WARNING] Do you want to run software from this untrusted publisher?](#0102)\n",
                "\n",
                ">[[ERROR] The 'Install-Module' command was found in the module 'PowerShellGet', but the module could not be loaded.](#0103)\n",
                "\n",
                ">[[ERROR] *.psm1 cannot be loaded because running scripts is disabled on this system.](#0104)\n",
                "\n",
                ">[[WARNING] Execution Policy Change](#0105)\n",
                "\n",
                "> [Quick start](#0106)\n",
                "\n",
                "[02. How to create Excel worksheet with PowerShell?](#02)\n",
                "\n",
                "[03. How to manage Excel worksheets with PowerShell?](#03)\n",
                "\n",
                "> [add](#0301)\n",
                "\n",
                "> [copy](#0302)\n",
                "\n",
                "> [import from url](#0303)\n",
                "\n",
                "> [remove](#0304)\n",
                "\n",
                "[04. How to do Excel conditional formatting with PowerShell?](#04)\n",
                "> [colors](#0401)\n",
                "\n",
                "> [color scales](#0402)\n",
                "\n",
                "> [data bars](#0403)\n",
                "\n",
                "> [icons](#0404)\n",
                "\n",
                "[05. How to manage Excel pivot tables with PowerShell?](#05)\n",
                "> [single fields](#0501)\n",
                "\n",
                "> [multiple fields](#0502)\n",
                "\n",
                "> [grouping](#0503)\n",
                "\n",
                "> [filtering](#0504)\n",
                "\n",
                "> [multiple tables](#0505)\n",
                "\n",
                "[06. How to manage Excel pivot charts  with PowerShell?](#06)\n",
                "\n",
                "[07. How to manage Excel charts  with PowerShell?](#07)\n",
                "\n",
                "> [single chart](#0701)\n",
                "\n",
                "> [multiple charts](#0702)\n",
                "\n",
                "[08. How to add Excel formula  with PowerShell?](#08)\n",
                ""
            ],
            "metadata": {
                "azdata_cell_guid": "726c3f84-d7a2-4ede-8e5e-fec9644bd3ec"
            }
        },
        {
            "cell_type": "markdown",
            "source": [
                "<a id='01'></a>\n",
                "# 01. Install ImportExcel module gallery\n",
                "\n",
                "Go to <a href=\"c:\\Users\\micha\\OneDrive\\learn\\FestiveCalendar2020\\/PowerShellGallery.com\" data-href=\"c:\\Users\\micha\\OneDrive\\learn\\FestiveCalendar2020\\/PowerShellGallery.com\" title=\"c:\\Users\\micha\\OneDrive\\learn\\FestiveCalendar2020\\/PowerShellGallery.com\">https://www.powershellgallery.com</a> and search for <strong>Excel</strong>:\n",
                "\n",
                "![](.\\0101_PSGallery_search.PNG)"
            ],
            "metadata": {
                "azdata_cell_guid": "e43cd63a-9dc7-434b-b034-e383233152e9"
            }
        },
        {
            "cell_type": "code",
            "source": [
                "Start-Process \"https://powershellgallery.com\""
            ],
            "metadata": {
                "azdata_cell_guid": "6c7bbddd-4434-4c54-8662-18e5e377a1f1"
            },
            "outputs": [],
            "execution_count": null
        },
        {
            "cell_type": "markdown",
            "source": [
                "On the results page find **ImportExcel** and click on it.\n",
                "\n",
                "![](0102_PSGallery_select.PNG)\n",
                "\n",
                "On the module's page go to the **Installation Options** and select one that works the best for you:\n",
                "\n",
                "![](0103_PSGallery_copy_paste.PNG)\n",
                ""
            ],
            "metadata": {
                "azdata_cell_guid": "d0f5b4d4-84be-45ec-8bdd-c97c2aa2d1c4"
            }
        },
        {
            "cell_type": "markdown",
            "source": [
                "<a id='0101'></a>\n",
                "## <mark>Install</mark>\n",
                "\n",
                "If your environment is already setup it is enough to run below command, but if you encounter errors/warnings see below how to address these."
            ],
            "metadata": {
                "azdata_cell_guid": "1ef5cee4-2112-4318-83ec-35dae172cb67"
            }
        },
        {
            "cell_type": "code",
            "source": [
                "Install-Module -Name ImportExcel -MinimumVersion 7.1.1 -Force"
            ],
            "metadata": {
                "azdata_cell_guid": "da764754-7a65-40e5-a5ee-e526e628f3c5"
            },
            "outputs": [],
            "execution_count": null
        },
        {
            "cell_type": "code",
            "source": [
                "Import-Module -Name ImportExcel -RequiredVersion 7.1.1"
            ],
            "metadata": {
                "azdata_cell_guid": "8779c616-0fd6-46d0-a662-948aca3ac75f"
            },
            "outputs": [],
            "execution_count": null
        },
        {
            "cell_type": "markdown",
            "source": [
                "To confirm the module has been installed run the following command:"
            ],
            "metadata": {
                "azdata_cell_guid": "ab4130db-e78f-410c-8c74-169c20abad25"
            }
        },
        {
            "cell_type": "code",
            "source": [
                "Find-Module -Name ImportExcel"
            ],
            "metadata": {
                "azdata_cell_guid": "8cc25d63-e885-4daf-b164-8fd6e7fde303"
            },
            "outputs": [],
            "execution_count": null
        },
        {
            "cell_type": "markdown",
            "source": [
                "<a id='0102'></a>\n",
                "## <mark>[WARNING] Do you want to run software from this untrusted publisher?</mark>\n",
                "\n",
                "Use one of these options that works best for you. I used R\n",
                "\n",
                "```\n",
                "Do you want to run software from this untrusted publisher?\n",
                "File\n",
                "C:\\Users\\micha\\OneDrive\\Documents\\WindowsPowerShell\\Modules\\PackageManagement\\1.4.7\\PackageManagement.format.ps1xml is\n",
                "published by CN=Microsoft Corporation, O=Microsoft Corporation, L=Redmond, S=Washington, C=US and is not trusted on\n",
                "your system. Only run scripts from trusted publishers.\n",
                "[V] Never run  [D] Do not run  [R] Run once  [A] Always run  [?] Help (default is \"D\"): \n",
                "```\n",
                "\n",
                "<a id='0103'></a>\n",
                "## <mark>[ERROR] The 'Install-Module' command was found in the module 'PowerShellGet', but the module could not be loaded.</mark>\n",
                "\n",
                "```\n",
                "Install-Module : The 'Install-Module' command was found in the module 'PowerShellGet', but the module could not be\n",
                "loaded. For more information, run 'Import-Module PowerShellGet'.\n",
                "At line:1 char:1\n",
                "+ Install-Module -Name ImportExcel\n",
                "+ ~~~~~~~~~~~~~~\n",
                "    + CategoryInfo          : ObjectNotFound: (Install-Module:String) [], CommandNotFoundException\n",
                "    + FullyQualifiedErrorId : CouldNotAutoloadMatchingModule\n",
                "```\n",
                "\n",
                "This may happen when you are installing your first module on the machine. Follow the tip and run:"
            ],
            "metadata": {
                "azdata_cell_guid": "0da8e977-e9d2-4348-9d92-6eb67d84ce3b"
            }
        },
        {
            "cell_type": "code",
            "source": [
                "Import-Module PowerShellGet"
            ],
            "metadata": {
                "azdata_cell_guid": "7292487f-3850-4d90-800f-1a7cb2c29bb0"
            },
            "outputs": [],
            "execution_count": null
        },
        {
            "cell_type": "markdown",
            "source": [
                "<a id='0104'></a>\n",
                "## <mark>[ERROR] *.psm1 cannot be loaded because running scripts is disabled on this system.</mark>\n",
                "\n",
                "```\n",
                "Import-Module : File\n",
                "C:\\Users\\micha\\OneDrive\\Documents\\WindowsPowerShell\\Modules\\PackageManagement\\1.4.7\\PackageManagement.psm1 cannot be\n",
                "loaded because running scripts is disabled on this system. For more information, see about_Execution_Policies at\n",
                "https:/go.microsoft.com/fwlink/?LinkID=135170.\n",
                "At line:1 char:1\n",
                "+ Import-Module PowerShellGet\n",
                "+ ~~~~~~~~~~~~~~~~~~~~~~~~~~~\n",
                "    + CategoryInfo          : SecurityError: (:) [Import-Module], PSSecurityException\n",
                "    + FullyQualifiedErrorId : UnauthorizedAccess,Microsoft.PowerShell.Commands.ImportModuleCommand\n",
                "```\n",
                "\n",
                "Change the ExecutionPolicy, let's say just for the process - single PowerShell session."
            ],
            "metadata": {
                "azdata_cell_guid": "2e7efc95-ae66-4dab-9e93-094afb951ad6"
            }
        },
        {
            "cell_type": "code",
            "source": [
                "Set-ExecutionPolicy -Scope Process -ExecutionPolicy Bypass"
            ],
            "metadata": {
                "azdata_cell_guid": "f731fea0-0cf7-4ba0-8558-4b5e86501d35"
            },
            "outputs": [],
            "execution_count": null
        },
        {
            "cell_type": "markdown",
            "source": [
                "<a id='0105'></a>\n",
                "## <mark>[WARNING] Execution Policy Change</mark>\n",
                "\n",
                "```\n",
                "Execution Policy Change\n",
                "The execution policy helps protect you from scripts that you do not trust. Changing the execution policy might\n",
                "expose you to the security risks described in the about_Execution_Policies help topic at\n",
                "https:/go.microsoft.com/fwlink/?LinkID=135170. Do you want to change the execution policy?\n",
                "[Y] Yes  [A] Yes to All  [N] No  [L] No to All  [S] Suspend  [?] Help (default is \"N\"): \n",
                "```\n",
                "\n",
                "Select the option that's best for you, I choose Y, and we can confirm the change now:"
            ],
            "metadata": {
                "azdata_cell_guid": "21b8ac5b-c4aa-46a6-bb31-89e6cc7ef414"
            }
        },
        {
            "cell_type": "code",
            "source": [
                "Get-ExecutionPolicy -List"
            ],
            "metadata": {
                "azdata_cell_guid": "3e07e23c-3c4b-48d7-827f-aff239e11486"
            },
            "outputs": [],
            "execution_count": null
        },
        {
            "cell_type": "markdown",
            "source": [
                "Now, once all the issues are resolved go back to [Install](#0101).\r\n",
                "\r\n",
                "<a id='0106'></a>\r\n",
                "## <mark>Quick start</mark>\r\n",
                "Also, each time you want to restart the section, run below code."
            ],
            "metadata": {
                "azdata_cell_guid": "2de9e0cf-155d-4c0e-b135-8cf848213f81"
            }
        },
        {
            "cell_type": "code",
            "source": [
                "# change the ExecutionPolicy for the current process\r\n",
                "Set-ExecutionPolicy -Scope Process -ExecutionPolicy Bypass\r\n",
                "\r\n",
                "# you will need this before installing modules from PowerShellGallery\r\n",
                "Import-Module PowerShellGet\r\n",
                "\r\n",
                "# install the module\r\n",
                "Install-Module -Name ImportExcel\r\n",
                "\r\n",
                "# load the desired version\r\n",
                "Import-Module -Name ImportExcel -RequiredVersion 7.1.1"
            ],
            "metadata": {
                "azdata_cell_guid": "486ea975-ded7-4a3e-a6c2-1f1449425bca",
                "tags": []
            },
            "outputs": [],
            "execution_count": null
        },
        {
            "cell_type": "markdown",
            "source": [
                "[Back to Top](#top)"
            ],
            "metadata": {
                "azdata_cell_guid": "769ba990-2dca-4a59-a4e8-c5300b72a0f3"
            }
        },
        {
            "cell_type": "markdown",
            "source": [
                "<a id='02'></a>\n",
                "# 02. How to create Excel worksheet with PowerShell?\n",
                "\n",
                "First thing after module installation will be to create an Excel file. First we need some prep work like location of the files (using the Temporary folder as it is easy to cleanup after excersises). Follow me."
            ],
            "metadata": {
                "azdata_cell_guid": "5359fdb1-b55e-4375-bdee-9117455bb264"
            }
        },
        {
            "cell_type": "code",
            "source": [
                "# set the spreadsheet name\r\n",
                "$excelFiles = \"MikeyAtFestiveTechCalendar02.xlsx\"\r\n",
                "\r\n",
                "# set location to the temp folder on your machine\r\n",
                "Set-Location $env:TEMP\r\n",
                "\r\n",
                "# path to the file\r\n",
                "$excelFile = \"$env:TEMP\\$excelFiles\"\r\n",
                "Write-Verbose -Verbose -Message  \"Save location: $excelFile\"\r\n",
                "\r\n",
                "# make sure the files do not exist before work\r\n",
                "Remove-Item $excelFiles -ErrorAction Ignore\r\n",
                "\r\n",
                "# get list of the available commands and save it \r\n",
                "$commandsList = Get-Command -Module ImportExcel* | Where-Object {$_.Version -eq '7.1.1'}"
            ],
            "metadata": {
                "azdata_cell_guid": "8a2e4db7-79e3-4062-a579-aee419ad792e"
            },
            "outputs": [],
            "execution_count": null
        },
        {
            "cell_type": "markdown",
            "source": [
                "Below we can see two examples of simple worksheet creation.\n",
                "\n",
                "One would be a raw data in a default sheet with switch <strong>-Show</strong> to open up the file.\n",
                "\n",
                "NOTE: The <strong>-KillExcel</strong> switch will close all Excel windows to make sure it can write to the file and it is not open."
            ],
            "metadata": {
                "azdata_cell_guid": "26eccee1-d971-416f-91f2-bcc4991742b9"
            }
        },
        {
            "cell_type": "code",
            "source": [
                "# create a very own Excel file with raw data and open it up using -Show switch\r\n",
                "$commandsList | SELECT Name | Export-Excel -Path $excelFile -KillExcel -Show"
            ],
            "metadata": {
                "azdata_cell_guid": "4b0b8804-467e-42af-b278-f8e106a88b25",
                "tags": []
            },
            "outputs": [],
            "execution_count": null
        },
        {
            "cell_type": "markdown",
            "source": [
                "![](0201_ExportExcel_show.PNG)"
            ],
            "metadata": {
                "azdata_cell_guid": "57f86091-06f4-42be-a431-9098598eb452"
            }
        },
        {
            "cell_type": "markdown",
            "source": [
                "Using the same file (**$excelFile**) we are going to create a second sheet with a named range (table) and also will open the file (**-Now**) on that sheet (**-Activate**)."
            ],
            "metadata": {
                "azdata_cell_guid": "b3b348a7-0012-4c69-97ee-cc58c88139fe"
            }
        },
        {
            "cell_type": "code",
            "source": [
                "# add a new worksheet to the existing file with a named range (table) and open it up using -Now switch \r\n",
                "$commandsList | SELECT Name | Export-Excel -Path $excelFile -KillExcel -WorksheetName Commands -Now -Activate"
            ],
            "metadata": {
                "azdata_cell_guid": "5fecd063-8b10-479b-912d-23cc45480338",
                "tags": []
            },
            "outputs": [],
            "execution_count": null
        },
        {
            "cell_type": "markdown",
            "source": [
                "![](0202_ExportExcel_now.PNG)\n",
                "\n",
                "Hooray! First Excel file with PowerShell! You have to admit - that was pretty cool and simply, wasn't it?\n",
                "\n",
                "Let's celebrate with a cookie\n",
                "\n",
                "![](0203_star.PNG)\n",
                "[Back to Top](#top)\n",
                ""
            ],
            "metadata": {
                "azdata_cell_guid": "be465d8a-35a9-4409-a764-47da7318e028"
            }
        },
        {
            "cell_type": "markdown",
            "source": [
                "<a id='03'></a>\n",
                "# 03. How to manage Excel worksheets with PowerShell?\n",
                "\n",
                "First thing after module installation will be to create an Excel file. First we need some prep work like location of the files (using the Temporary folder as it is easy to cleanup after excersises). Follow me.\n",
                "\n",
                "<a id='0301'></a>\n",
                "## Adding Excel worksheets with PowerShell\n",
                "\n",
                "We have seen how to add a new sheet to the existing file, but there are some other ways to do that. Let's start with the prep work first."
            ],
            "metadata": {
                "azdata_cell_guid": "fa84a20c-6b39-4815-a530-8f5bca596c86"
            }
        },
        {
            "cell_type": "code",
            "source": [
                "# set the spreadsheet name\r\n",
                "$excelFiles = \"MikeyAtFestiveTechCalendar03.xlsx\"\r\n",
                "\r\n",
                "# set location to the temp folder on your machine\r\n",
                "Set-Location $env:TEMP\r\n",
                "\r\n",
                "# path to the file\r\n",
                "$excelFile = \"$env:TEMP\\$excelFiles\"\r\n",
                "Write-Verbose -Verbose -Message  \"Save location: $excelFile\"\r\n",
                "\r\n",
                "# make sure the files do not exist before work\r\n",
                "Remove-Item $excelFiles -ErrorAction Ignore"
            ],
            "metadata": {
                "azdata_cell_guid": "0f5dae73-7bba-49e6-a5f3-b4acd94cea85"
            },
            "outputs": [
                {
                    "output_type": "stream",
                    "name": "stdout",
                    "text": "VERBOSE: Save location: C:\\Users\\micha\\AppData\\Local\\Temp\\MikeyAtFestiveTechCalendar03.xlsx\n"
                }
            ],
            "execution_count": 15
        },
        {
            "cell_type": "markdown",
            "source": [
                "Now we are going to create a new Excel file (**Export-Excel**) and copy its sheet (**Add-Worksheet -CopySource**). To do so we are going to load the ExcelPackage, make the changes and save it (**Close-ExcelPackage**)."
            ],
            "metadata": {
                "azdata_cell_guid": "be455b9a-abb3-498e-9ecf-37bc067d5559"
            }
        },
        {
            "cell_type": "code",
            "source": [
                "# create a new excelPackage with default Sheet1, without opening the file \r\n",
                "$excelPackage = 1..25 | Export-Excel $excelFile -PassThru\r\n",
                "\r\n",
                "# copy the worksheet Sheet1 into new sheet\r\n",
                "Add-Worksheet -ExcelPackage $excelPackage -WorkSheetname \"CopySheet1\" -CopySource $excelPackage.Workbook.Worksheets[\"Sheet1\"]\r\n",
                "\r\n",
                "# save the package and open in Excel\r\n",
                "Close-ExcelPackage -ExcelPackage $excelPackage -Show"
            ],
            "metadata": {
                "azdata_cell_guid": "02cb88df-872b-47df-8285-8c6e4ce0eb80"
            },
            "outputs": [
                {
                    "output_type": "stream",
                    "name": "stdout",
                    "text": "\n\nIndex                 : 2\nAutoFilterAddress     : \nView                  : OfficeOpenXml.ExcelWorksheetView\nName                  : CopySheet1\nNames                 : {}\nHidden                : Visible\nDefaultRowHeight      : 15\nCustomHeight          : False\nDefaultColWidth       : 9.140625\nOutLineSummaryBelow   : False\nOutLineSummaryRight   : False\nOutLineApplyStyle     : False\nTabColor              : Color [Empty]\nCodeModule            : \nWorksheetXml          : #document\nComments              : {}\nHeaderFooter          : OfficeOpenXml.ExcelHeaderFooter\nPrinterSettings       : OfficeOpenXml.ExcelPrinterSettings\nCells                 : {Normal, Normal, Normal, Normal...}\nSelectedRange         : {Normal}\nMergedCells           : {}\nDimension             : A1:A25\nProtection            : OfficeOpenXml.ExcelSheetProtection\nProtectedRanges       : {}\nDrawings              : {}\nSparklineGroups       : {}\nTables                : {}\nPivotTables           : {}\nConditionalFormatting : {}\nDataValidations       : {}\nBackgroundImage       : OfficeOpenXml.ExcelBackgroundImage\nWorkbook              : OfficeOpenXml.ExcelWorkbook\n\n"
                },
                {
                    "output_type": "stream",
                    "name": "stdout",
                    "text": "\n\n"
                }
            ],
            "execution_count": 16
        },
        {
            "cell_type": "markdown",
            "source": [
                "![](0301_AddWorksheet.PNG)\r\n",
                "\r\n",
                "OK. That works fine when we are creating the spreadsheet, but what to do if we already have file? \r\n",
                "\r\n",
                "In this case we need to load the ExcelPackage (**Open-ExcelPackage**) and repeat other steps. We are going to move our copy to the begining of the tabs (**-MoveToStart**).\r\n",
                ""
            ],
            "metadata": {
                "azdata_cell_guid": "bf1a1bc2-a1e2-4328-bc6c-1fa10ebca20e"
            }
        },
        {
            "cell_type": "code",
            "source": [
                "# load the Excel Package (and close Excel)\r\n",
                "$excelPackage = Open-ExcelPackage -Path $excelFile -KillExcel\r\n",
                "\r\n",
                "# copy the worksheet and move it at the start\r\n",
                "Add-Worksheet -ExcelPackage $excelPackage -WorkSheetname \"CopySheet2\" -CopySource $excelPackage.Workbook.Worksheets[\"Sheet1\"] -MoveToStart\r\n",
                "\r\n",
                "# save the package and open in Excel\r\n",
                "Close-ExcelPackage -ExcelPackage $excelPackage -Show"
            ],
            "metadata": {
                "azdata_cell_guid": "1feb4ee1-d7c2-4347-8abb-7e7d859498c5"
            },
            "outputs": [
                {
                    "output_type": "stream",
                    "name": "stdout",
                    "text": "\n\nIndex                 : 1\nAutoFilterAddress     : \nView                  : OfficeOpenXml.ExcelWorksheetView\nName                  : CopySheet2\nNames                 : {}\nHidden                : Visible\nDefaultRowHeight      : 15\nCustomHeight          : False\nDefaultColWidth       : 9.140625\nOutLineSummaryBelow   : False\nOutLineSummaryRight   : False\nOutLineApplyStyle     : False\nTabColor              : Color [Empty]\nCodeModule            : \nWorksheetXml          : #document\nComments              : {}\nHeaderFooter          : OfficeOpenXml.ExcelHeaderFooter\nPrinterSettings       : OfficeOpenXml.ExcelPrinterSettings\nCells                 : {Normal, Normal, Normal, Normal...}\nSelectedRange         : {Normal}\nMergedCells           : {}\nDimension             : A1:A25\nProtection            : OfficeOpenXml.ExcelSheetProtection\nProtectedRanges       : {}\nDrawings              : {}\nSparklineGroups       : {}\nTables                : {}\nPivotTables           : {}\nConditionalFormatting : {}\nDataValidations       : {}\nBackgroundImage       : OfficeOpenXml.ExcelBackgroundImage\nWorkbook              : OfficeOpenXml.ExcelWorkbook\n\n"
                },
                {
                    "output_type": "stream",
                    "name": "stdout",
                    "text": "\n\n"
                }
            ],
            "execution_count": 17
        },
        {
            "cell_type": "markdown",
            "source": [
                "![](0302_AddWorksheet2.PNG)\r\n",
                "\r\n",
                "<a id='0302'></a>\r\n",
                "## Copying Excel worksheets with PowerShell\r\n",
                "\r\n",
                "The last way to copy the worksheet is with using **Copy-ExcelWorksheet** function. Note at the end the **-Show** switch, so we don't need to close the package."
            ],
            "metadata": {
                "azdata_cell_guid": "33f84b57-fdcb-4b42-840a-2b07afcaa616"
            }
        },
        {
            "cell_type": "code",
            "source": [
                "# load the Excel Package (and close Excel)\r\n",
                "$excelPackage = Open-ExcelPackage -Path $excelFile -KillExcel\r\n",
                "\r\n",
                "# copy the worksheet\r\n",
                "Copy-ExcelWorksheet -SourceObject $excelPackage -SourceWorksheet Sheet1 -DestinationWorkbook $excelPackage -DestinationWorksheet AnotherCopy -Show"
            ],
            "metadata": {
                "azdata_cell_guid": "382322b0-c3b6-43d2-ad77-1a3e689677d7",
                "tags": []
            },
            "outputs": [
                {
                    "output_type": "stream",
                    "name": "stdout",
                    "text": ""
                }
            ],
            "execution_count": 18
        },
        {
            "cell_type": "markdown",
            "source": [
                "![](0303_CopyWorksheet.png)\r\n",
                "\r\n",
                "All worksheets are pretty much the same as the original one, so let's add something new.\r\n",
                "\r\n",
                "In this example we are going to grab some foreign exchange data from the web (**Get-HtmlTable**) and load it into our empty worksheet within the same Excel workbook (**Export-Excel**)."
            ],
            "metadata": {
                "azdata_cell_guid": "dbe14994-3899-4145-939e-4e1c71cd3afa"
            }
        },
        {
            "cell_type": "code",
            "source": [
                "# load the Excel Package (and close Excel)\r\n",
                "$excelPackage = Open-ExcelPackage -Path $excelFile -KillExcel\r\n",
                "\r\n",
                "# add an empty worksheet and place it at the end\r\n",
                "Add-Worksheet -ExcelPackage $excelPackage -WorkSheetname \"FXData\" -MoveToEnd\r\n",
                "\r\n",
                "# get some data\r\n",
                "$fxData = Get-HtmlTable -Url 'https://www.xe.com/en/currencytables/?from=EUR' -TableIndex 0\r\n",
                "\r\n",
                "# pipe the data into the package adding few more features and open it\r\n",
                "$fxData | Export-Excel -ExcelPackage $excelPackage -WorksheetName FXData -TableName FXDataTbl -AutoSize -FreezeTopRow -Activate -Show"
            ],
            "metadata": {
                "azdata_cell_guid": "420b8675-67e1-410d-b582-d8ecf1e73ee8"
            },
            "outputs": [
                {
                    "output_type": "stream",
                    "name": "stdout",
                    "text": "\n\nIndex                 : 5\nAutoFilterAddress     : \nView                  : OfficeOpenXml.ExcelWorksheetView\nName                  : FXData\nNames                 : {}\nHidden                : Visible\nDefaultRowHeight      : 15\nCustomHeight          : False\nDefaultColWidth       : 9.140625\nOutLineSummaryBelow   : False\nOutLineSummaryRight   : False\nOutLineApplyStyle     : False\nTabColor              : Color [Empty]\nCodeModule            : \nWorksheetXml          : #document\nComments              : {}\nHeaderFooter          : OfficeOpenXml.ExcelHeaderFooter\nPrinterSettings       : OfficeOpenXml.ExcelPrinterSettings\nCells                 : {}\nSelectedRange         : {}\nMergedCells           : {}\nDimension             : \nProtection            : OfficeOpenXml.ExcelSheetProtection\nProtectedRanges       : {}\nDrawings              : {}\nSparklineGroups       : {}\nTables                : {}\nPivotTables           : {}\nConditionalFormatting : {}\nDataValidations       : {}\nBackgroundImage       : OfficeOpenXml.ExcelBackgroundImage\nWorkbook              : OfficeOpenXml.ExcelWorkbook\n\n"
                },
                {
                    "output_type": "stream",
                    "name": "stdout",
                    "text": "\n\n"
                }
            ],
            "execution_count": 19
        },
        {
            "cell_type": "markdown",
            "source": [
                "![](0304_Import.png)\r\n",
                "\r\n",
                "<a id='0303'></a>\r\n",
                "## Importing data from URL into Excel worksheets with PowerShell\r\n",
                "\r\n",
                "There is a way to get the data from the website and export it to the Excel file directly (**Import-Html**). This function uses **Get-HtmlTable** and **Export-Excel** and creates a random name file."
            ],
            "metadata": {
                "azdata_cell_guid": "13d08fa9-47a1-4bd0-8e4a-05100f2afdbe"
            }
        },
        {
            "cell_type": "code",
            "source": [
                "Import-Html -Url 'https://en.wikipedia.org/wiki/List_of_English_football_champions' -Index 3"
            ],
            "metadata": {
                "azdata_cell_guid": "091b9ca8-f2ea-4c50-8b86-affee859f317"
            },
            "outputs": [
                {
                    "output_type": "stream",
                    "name": "stdout",
                    "text": ""
                }
            ],
            "execution_count": 20
        },
        {
            "cell_type": "markdown",
            "source": [
                "![](0305_Import2.png)\r\n",
                "\r\n",
                "<a id='0304'></a>\r\n",
                "## Removing Excel worksheets with PowerShell"
            ],
            "metadata": {
                "azdata_cell_guid": "0a2f1407-a09b-4960-b8e2-b53baadcf6cc"
            }
        },
        {
            "cell_type": "code",
            "source": [
                "# remove selected worksheets\r\n",
                "Remove-Worksheet -Path $excelFile -WorksheetName CopySheet2, CopySheet1, AnotherCopy, Sheet1 -Show"
            ],
            "metadata": {
                "azdata_cell_guid": "b3d77977-c3bd-4ace-b261-8191b2c28974"
            },
            "outputs": [
                {
                    "output_type": "stream",
                    "name": "stdout",
                    "text": ""
                }
            ],
            "execution_count": 22
        },
        {
            "cell_type": "markdown",
            "source": [
                "![](0306_Remove.png)\r\n",
                "\r\n",
                "<a href=\"#top\" data-href=\"#top\" title=\"#top\">Back to Top</a>"
            ],
            "metadata": {
                "azdata_cell_guid": "c9c29e5b-6b86-4098-ba08-b749d499b2e4"
            }
        },
        {
            "cell_type": "markdown",
            "source": [
                "<a id='04'></a>\n",
                "# 04. How to do Excel conditional formatting with PowerShell?\n",
                "\n",
                "Conditional formatting is an essential feature of the Microsoft Excel. It is also possible to create the rules with PowerShell. First, start with some ususal prepwork."
            ],
            "metadata": {
                "azdata_cell_guid": "97d06793-a6ef-4d3d-95ae-999d675131f4"
            }
        },
        {
            "cell_type": "code",
            "source": [
                "# set the spreadsheet name\r\n",
                "$excelFiles = \"MikeyAtFestiveTechCalendar04.xlsx\"\r\n",
                "\r\n",
                "# set location to the temp folder on your machine\r\n",
                "Set-Location $env:TEMP\r\n",
                "\r\n",
                "# path to the file\r\n",
                "$excelFile = \"$env:TEMP\\$excelFiles\"\r\n",
                "Write-Verbose -Verbose -Message  \"Save location: $excelFile\"\r\n",
                "\r\n",
                "# make sure the files do not exist before work\r\n",
                "Remove-Item $excelFiles -ErrorAction Ignore"
            ],
            "metadata": {
                "azdata_cell_guid": "1927d172-81f9-44a1-8e64-c8d9be36527a"
            },
            "outputs": [],
            "execution_count": null
        },
        {
            "cell_type": "markdown",
            "source": [
                "In this example we are going to apply the conditional formatting to the date pulled from the web (**Get-HtmlTable**). Unlike in the example from previous section we are going to save it straight to the blank Excel file, instead of Excel Package (**Export-Excel -Path**), so you know it is also possible."
            ],
            "metadata": {
                "azdata_cell_guid": "bb9f614d-7f09-482e-90b6-fa0181167f0c"
            }
        },
        {
            "cell_type": "code",
            "source": [
                "# get some data\r\n",
                "$population = Get-HtmlTable -Url 'https://www.worldometers.info/world-population/population-by-country/' -TableIndex 0"
            ],
            "metadata": {
                "azdata_cell_guid": "500e8126-5e0f-4a3a-999d-dfa89d5b7a2b",
                "tags": []
            },
            "outputs": [],
            "execution_count": null
        },
        {
            "cell_type": "markdown",
            "source": [
                "Export the dateset into Excel file:"
            ],
            "metadata": {
                "azdata_cell_guid": "13f6b589-fc45-48e7-bb02-5438de357586"
            }
        },
        {
            "cell_type": "code",
            "source": [
                "# pipe the data into the blank Excel file and open it\r\n",
                "$population | Export-Excel -Path $excelFiles -WorksheetName Population -TableName Population -AutoSize -Activate -Show"
            ],
            "metadata": {
                "azdata_cell_guid": "74d01506-3809-4587-a1cf-32b5dd6504ab"
            },
            "outputs": [],
            "execution_count": null
        },
        {
            "cell_type": "markdown",
            "source": [
                "Imported files should look like that:\r\n",
                "![](0400_ConditionalFormatting.png)"
            ],
            "metadata": {
                "azdata_cell_guid": "8fe92323-5f2f-4a85-b8ef-6ef7837e9a76"
            }
        },
        {
            "cell_type": "markdown",
            "source": [
                "<a id='0401'></a>\n",
                "## <mark>Conditional formatting with PowerShell - colors</mark>\n",
                "\n",
                "Pretty table without any color formatting, let's add some festive lights to the worksheet."
            ],
            "metadata": {
                "azdata_cell_guid": "78746ff0-5173-4741-8756-da965ab594e6"
            }
        },
        {
            "cell_type": "code",
            "source": [
                "# define conditional formatting for each column in a new worksheet\r\n",
                "# these are random formats, just to show the capability\r\n",
                "$ConditionalFormat =$(\r\n",
                "    New-ConditionalText -Range 'A:A' -ConditionalType BeginsWith 1 -BackgroundColor Yellow\r\n",
                "    New-ConditionalText -Range 'B:B' -Text United -BackgroundColor Blue -ConditionalTextColor White\r\n",
                "    New-ConditionalText -Range 'D:D' -ConditionalType EndsWith % -BackgroundColor Brown -ConditionalTextColor White\r\n",
                "    New-ConditionalText -Range 'E:E' -ConditionalType LessThan 0 -BackgroundColor Red -ConditionalTextColor Yellow\r\n",
                "    New-ConditionalText -Range 'F:F' -ConditionalType BottomPercent 50 -BackgroundColor Black -ConditionalTextColor Yellow\r\n",
                "    New-ConditionalText -Range 'G:G' -ConditionalType TopPercent 25 -BackgroundColor Gold -ConditionalTextColor Black\r\n",
                "    New-ConditionalText -Range 'H:H' -ConditionalType GreaterThan 0 -BackgroundColor Lightgreen -ConditionalTextColor Black\r\n",
                "    New-ConditionalText -Range 'J:J' -ConditionalType UniqueValues -BackgroundColor Orange -ConditionalTextColor Black\r\n",
                ")\r\n",
                "\r\n",
                "# add the new worksheet with ConditionalFormat.\r\n",
                "$population | Export-Excel -WorksheetName PopCon -TableName PopCon -Path $excelFiles -ConditionalFormat $ConditionalFormat -AutoSize -Activate -KillExcel -Show "
            ],
            "metadata": {
                "azdata_cell_guid": "0aa3c96f-7599-4d26-b993-99c7be3b1ddd"
            },
            "outputs": [],
            "execution_count": null
        },
        {
            "cell_type": "markdown",
            "source": [
                "This will get us a fancy looking spreadsheet:\r\n",
                "![](0401_ConditionalFormatting_colors.png)"
            ],
            "metadata": {
                "azdata_cell_guid": "84b8776a-6930-41da-be32-da6bc8f0fdd6"
            }
        },
        {
            "cell_type": "markdown",
            "source": [
                "<a id='0402'></a>\n",
                "## <mark>Conditional formatting with PowerShell - color scales</mark>\n",
                "\n",
                "Conditional formatting is not only solid colors, we can use color scales for better visualisations. In this example we are going to add the <strong>ThreeColorScale</strong> formatting to the existing file (<strong>Add-ConditionalFormatting</strong>)."
            ],
            "metadata": {
                "azdata_cell_guid": "4aaff408-0933-4060-9479-90a5b64788ce"
            }
        },
        {
            "cell_type": "code",
            "source": [
                "# load the Excel Package (and close Excel)\r\n",
                "$excelPackage = Open-ExcelPackage -Path $excelFile -KillExcel\r\n",
                "\r\n",
                "# add the formatting to the existing spreadsheet\r\n",
                "Add-ConditionalFormatting -Worksheet $excelPackage.PopCon -Address \"C:C\" -RuleType ThreeColorScale \r\n",
                "\r\n",
                "# save the package and open in Excel\r\n",
                "Close-ExcelPackage $excelPackage -Show"
            ],
            "metadata": {
                "azdata_cell_guid": "3e4125d6-5ad6-4830-b4e4-cea2d912abf6",
                "tags": []
            },
            "outputs": [],
            "execution_count": null
        },
        {
            "cell_type": "markdown",
            "source": [
                "That C column is looking awesome!\r\n",
                "![](0402_ConditionalFormatting_colors_scales.png)"
            ],
            "metadata": {
                "azdata_cell_guid": "0c177978-50d2-42b6-9d8f-62aa1e022b07"
            }
        },
        {
            "cell_type": "markdown",
            "source": [
                "<a id='0403'></a>\n",
                "## <mark>Conditional formatting with PowerShell - data bars</mark>\n",
                "\n",
                "Maybe you want to use different formatting showing how big the values are?"
            ],
            "metadata": {
                "azdata_cell_guid": "07fc5277-d633-4ce3-9ada-efccf33fac59"
            }
        },
        {
            "cell_type": "code",
            "source": [
                "# load the Excel Package (and close Excel)\r\n",
                "$excelPackage = Open-ExcelPackage -Path $excelFile -KillExcel\r\n",
                "\r\n",
                "# add the formatting to the existing spreadsheet\r\n",
                "Add-ConditionalFormatting -Worksheet $excelPackage.PopCon -Address \"G:G\" -DataBarColor Red  \r\n",
                "\r\n",
                "# save the package and open in Excel\r\n",
                "Close-ExcelPackage $excelPackage -Show"
            ],
            "metadata": {
                "azdata_cell_guid": "2fc8906f-aed9-4af2-8869-3c22c2a1fab6"
            },
            "outputs": [],
            "execution_count": null
        },
        {
            "cell_type": "markdown",
            "source": [
                "Gee, that bar has been set high:\r\n",
                "![](0403_ConditionalFormatting_databars.png)"
            ],
            "metadata": {
                "azdata_cell_guid": "b7c6920e-83e2-46d6-b679-306344ce50bf"
            }
        },
        {
            "cell_type": "markdown",
            "source": [
                "<a id='0404'></a>\r\n",
                "## <mark>Conditional formatting with PowerShell - icons</mark>"
            ],
            "metadata": {
                "azdata_cell_guid": "caadad0a-e1dc-4408-ba75-e2969e3aaaf2"
            }
        },
        {
            "cell_type": "code",
            "source": [
                "# load the Excel Package (and close Excel)\r\n",
                "$excelPackage = Open-ExcelPackage -Path $excelFile -KillExcel\r\n",
                "\r\n",
                "# add the formatting to the existing spreadsheet\r\n",
                "Add-ConditionalFormatting -Worksheet $excelPackage.PopCon -Address \"I:I\" -FiveIconsSet Rating\r\n",
                "\r\n",
                "# save the package and open in Excel\r\n",
                "Close-ExcelPackage $excelPackage -Show"
            ],
            "metadata": {
                "azdata_cell_guid": "a5ce87b2-29ca-42ab-9ee6-59f315724356"
            },
            "outputs": [],
            "execution_count": null
        },
        {
            "cell_type": "markdown",
            "source": [
                "And now, our spreadsheet surely looks like overloaded Christmas tree:\r\n",
                "![](0404_ConditionalFormatting_icons.png)\r\n",
                "\r\n",
                "[Back to Top](#top)"
            ],
            "metadata": {
                "azdata_cell_guid": "f8679f5e-e976-4632-8560-a97717ed666d"
            }
        },
        {
            "cell_type": "markdown",
            "source": [
                "<a id='05'></a>\n",
                "# 05. How to manage Excel pivot tables with PowerShell?\n",
                "\n",
                "Pivot tables are a very handy and powerfull feature of the Excel. We can do calculation in no time. I have a special relation with pivot tables and whenever I hear \"pivot\" I imagine that scene from the _Friends_ when they are trying to get the couch through the stairs.\n",
                "\n",
                "The ImportExcel module can also help us here. OK, maybe not moving the couch, but solving actual problems. Let's have a look at some examples. Prepare our file first."
            ],
            "metadata": {
                "azdata_cell_guid": "38d42283-1057-4715-958a-1d7d6a108a46"
            }
        },
        {
            "cell_type": "code",
            "source": [
                "# set the spreadsheet name\r\n",
                "$excelFiles = \"MikeyAtFestiveTechCalendar05.xlsx\"\r\n",
                "\r\n",
                "# set location to the temp folder on your machine\r\n",
                "Set-Location $env:TEMP\r\n",
                "\r\n",
                "# path to the file\r\n",
                "$excelFile = \"$env:TEMP\\$excelFiles\"\r\n",
                "Write-Verbose -Verbose -Message  \"Save location: $excelFile\"\r\n",
                "\r\n",
                "# make sure the files do not exist before work\r\n",
                "Remove-Item $excelFiles -ErrorAction Ignore"
            ],
            "metadata": {
                "azdata_cell_guid": "1b20dca6-f663-4b37-aeb3-9b6092af3ae3"
            },
            "outputs": [
                {
                    "output_type": "stream",
                    "name": "stdout",
                    "text": ". {\n>> # set the spreadsheet name\n>> $excelFiles = \"MikeyAtFestiveTechCalendar05.xlsx\"\n>> \n>> "
                },
                {
                    "output_type": "stream",
                    "name": "stdout",
                    "text": "# set location to the temp folder on your machine\n>> Set-Location $env:TEMP\n>> \n>> # path to the file\n>> $excelFile = \"$env:TEMP\\$excelFiles\"\n>> Write-Verbose -Verbose -Message  \"Save location: $excelFile\"\n>> \n>> # make sure the files do not exist before work\n>> Remove-Item $excelFiles -ErrorAction Ignore\n>> }\n>> \nVERBOSE: Save location: C:\\Users\\micha\\AppData\\Local\\Temp\\MikeyAtFestiveTechCalendar05.xlsx\n"
                }
            ],
            "execution_count": 23
        },
        {
            "cell_type": "markdown",
            "source": [
                "## <mark>Pivot table with PowerShell - single fields</mark>\r\n",
                "\r\n",
                "Now it is time to use the magical <strong>Add-PivotTable</strong> function to create a pivot table. We will have a look at the Services on the machine."
            ],
            "metadata": {
                "azdata_cell_guid": "5e30b51c-34cb-42a0-a624-ca6621e28ff5"
            }
        },
        {
            "cell_type": "code",
            "source": [
                "# let's grab some details about services on the computer\r\n",
                "$services = Get-Service | SELECT Name, Status, StartType, CanStop\r\n",
                "\r\n",
                "# export these data into new Excel spreadsheet \r\n",
                "$services | Export-Excel -Path $excelFile -WorksheetName Services -TableName ServicesTable -KillExcel\r\n",
                "\r\n",
                "# load the Excel Package (and close Excel)\r\n",
                "$excelPackage = Open-ExcelPackage -Path $excelFile -KillExcel\r\n",
                "\r\n",
                "# add pivot table\r\n",
                "Add-PivotTable -ExcelPackage $excelPackage -PivotRows Status -PivotColumns StartType -PivotData @{'Name' = 'count'} -SourceWorkSheet Services -PivotTableName PivotServices -Activate\r\n",
                "\r\n",
                "# save it to the file and display\r\n",
                "Close-ExcelPackage -ExcelPackage $excelPackage -Show"
            ],
            "metadata": {
                "azdata_cell_guid": "bae74975-363e-4c8d-af15-650ae20c8fc2"
            },
            "outputs": [
                {
                    "output_type": "stream",
                    "name": "stdout",
                    "text": ""
                }
            ],
            "execution_count": 24
        },
        {
            "cell_type": "markdown",
            "source": [
                "![](.\\0501_pivot_single.png)\n",
                "\n",
                "We can always add more fields to the columns, rows or values.\n",
                "\n",
                "## <mark>Pivot table with PowerShell - multiple fields</mark>\n",
                "\n",
                "To add more columns or rows add them into <b>-PivotColumns</b> or<b> -PivotRows</b> separated by comma (,); to process more columns in the values area populate -PivotData with a list of pairs <b>field = aggregation</b> separated by semicolon."
            ],
            "metadata": {
                "azdata_cell_guid": "adaa6e69-6c14-4643-b25a-d6e23c1fe218"
            }
        },
        {
            "cell_type": "code",
            "source": [
                "# get information about processes running at the moment\r\n",
                "$process = Get-Process | SELECT Name, PriorityClass, CPU, Company, Product, SI"
            ],
            "metadata": {
                "azdata_cell_guid": "f8679672-55b8-4249-85dd-e5fe10b4af24"
            },
            "outputs": [],
            "execution_count": null
        },
        {
            "cell_type": "code",
            "source": [
                "# export it to the spreadsheet\r\n",
                "$process | Export-Excel -Path $excelFile -WorksheetName Processes -TableName ProcessTable -KillExcel\r\n",
                "\r\n",
                "# load the Excel Package (and close Excel)\r\n",
                "$excelPackage = Open-ExcelPackage -Path $excelFile -KillExcel\r\n",
                "\r\n",
                "# add pivot table with multiple fields\r\n",
                "Add-PivotTable -ExcelPackage $excelPackage -PivotRows Company, Product -PivotColumns SI,PriorityClass -PivotData @{'CPU' = 'sum'; 'Name' = 'count'} -SourceWorkSheet Processes -PivotTableName PivotProcesses -Activate -PivotDataToColumn\r\n",
                "\r\n",
                "# save it to the file and display\r\n",
                "Close-ExcelPackage -ExcelPackage $excelPackage -Show"
            ],
            "metadata": {
                "azdata_cell_guid": "2c6f64c4-78c8-4313-87b8-9140af35c0b6"
            },
            "outputs": [],
            "execution_count": null
        },
        {
            "cell_type": "markdown",
            "source": [
                "With all that being set we will get a great pivot tables with multiple fields.\r\n",
                "![](0502_pivot_multi.png)"
            ],
            "metadata": {
                "azdata_cell_guid": "c2cae182-7a90-43d0-ba75-9e51cc55f114"
            }
        },
        {
            "cell_type": "markdown",
            "source": [
                "<a id='0503'></a>\r\n",
                "## <mark>Pivot table with PowerShell - grouping</mark>\r\n",
                "\r\n",
                "One of the option of the pivot table is being able to group data. If our data contain records with dates we may want to group it by time unit like month, day, minute, etc. The ImportExcel module offers that with the **-GroupDateRow** (set which field has date values) & **-GroupDatePart** (decide which time unit you want to display) combo for dates. "
            ],
            "metadata": {
                "azdata_cell_guid": "7b3ba398-0d38-4b71-ad91-80fd618dc5cf"
            }
        },
        {
            "cell_type": "code",
            "source": [
                "# get files from my temp folder\r\n",
                "$tempJunk = Get-ChildItem -Path $ENV:Temp | select Name, Extension,CreationTime,PSIsContainer\r\n",
                "\r\n",
                "# export the files into the spreadsheet\r\n",
                "$tempJunk | Export-Excel -Path $excelFile -WorksheetName Files -TableName FilesTable -KillExcel\r\n",
                "\r\n",
                "# load the Excel Package (and close Excel)\r\n",
                "$excelPackage = Open-ExcelPackage -Path $excelFile -KillExcel\r\n",
                "\r\n",
                "# add pivot table with grouping by month\r\n",
                "Add-PivotTable -ExcelPackage $excelPackage -PivotRows CreationTime -PivotColumns Extension -PivotData @{'Name' = 'count'} -SourceWorkSheet Files -PivotTableName PivotFiles -Activate -GroupDateRow CreationTime -GroupDatePart Months\r\n",
                "\r\n",
                "# save it to the file and display\r\n",
                "Close-ExcelPackage -ExcelPackage $excelPackage -Show\r\n",
                ""
            ],
            "metadata": {
                "azdata_cell_guid": "4ec122cf-651f-4bb5-9b7a-f29805d9aab5"
            },
            "outputs": [],
            "execution_count": null
        },
        {
            "cell_type": "markdown",
            "source": [
                "My data have a **CreationTime** of the file which is a datetime. I would like to see summary by month.\r\n",
                "![](0503_group2.png)\r\n",
                "\r\n",
                "The final pivot table has the CreationTime grouped by Month\r\n",
                "![](0503_group1.png)\r\n",
                ""
            ],
            "metadata": {
                "azdata_cell_guid": "7a119b11-63cc-42bf-a7b3-9d1b31ac588f"
            }
        },
        {
            "cell_type": "markdown",
            "source": [
                "<a id='0504'></a>\r\n",
                "## <mark>Pivot table with PowerShell - filtering</mark>"
            ],
            "metadata": {
                "azdata_cell_guid": "ea15b453-5404-42d3-a94b-5c972f4530dc"
            }
        },
        {
            "cell_type": "code",
            "source": [
                "# load the Excel Package (and close Excel)\r\n",
                "$excelPackage = Open-ExcelPackage -Path $excelFile -KillExcel\r\n",
                "\r\n",
                "# add pivot table with filter\r\n",
                "Add-PivotTable -ExcelPackage $excelPackage -PivotRows Company -PivotColumns SI -PivotData @{'CPU' = 'sum'} -SourceWorkSheet Processes -PivotTableName PivotFilter -Activate -PivotFilter PriorityClass \r\n",
                "\r\n",
                "# save it to the file and display\r\n",
                "Close-ExcelPackage -ExcelPackage $excelPackage -Show"
            ],
            "metadata": {
                "azdata_cell_guid": "bb7edcac-e927-415e-8ec8-fa7f87f4bd15"
            },
            "outputs": [],
            "execution_count": null
        },
        {
            "cell_type": "markdown",
            "source": [
                "This way we have got a pivot table with filter on one of the fields:\r\n",
                "![](0504_filter.png)"
            ],
            "metadata": {
                "azdata_cell_guid": "17058c2c-607f-4fe6-bcf9-fbda4f48b496"
            }
        },
        {
            "cell_type": "markdown",
            "source": [
                "<a id='0505'></a>\r\n",
                "## <mark>Pivot table with PowerShell - multiple tables</mark>\r\n",
                "It is possible to configure definition (**New-PivotTableDefinition**) of more than one pivot table and generate it in separate or same worksheetl to do so we need pivot table definition object **$PTDef**."
            ],
            "metadata": {
                "azdata_cell_guid": "09dc797e-d744-47b9-8560-8a5c4a631b5e"
            }
        },
        {
            "cell_type": "code",
            "source": [
                "# load the Excel Package (and close Excel)\r\n",
                "$excelPackage = Open-ExcelPackage -Path $excelFile -KillExcel\r\n",
                "\r\n",
                "# cleanup some tables first\r\n",
                "Remove-Worksheet -Path $excelFile -WorksheetName PivotServices, PivotProcesses, PivotFiles, PivotFilter\r\n",
                "\r\n",
                "# create definition of new pivot tables\r\n",
                "$PTDef = New-PivotTableDefinition -PivotTableName P1 -PivotRows Company, Product -PivotColumns SI,PriorityClass -PivotData @{'CPU' = 'sum'; 'Name' = 'count'} -SourceWorkSheet Processes -PivotDataToColumn\r\n",
                "$PTDef += New-PivotTableDefinition -PivotTableName P2 -PivotRows CreationTime -PivotColumns Extension -PivotData @{'Name' = 'count'} -SourceWorkSheet Files -GroupDateRow CreationTime -GroupDatePart Months\r\n",
                "$PTDef += New-PivotTableDefinition -PivotTableName P3 -PivotRows Status -PivotColumns StartType -PivotData @{'Name' = 'count'} -SourceWorkSheet Services\r\n",
                "$excel = Export-Excel -Path $excelFile -PivotTableDefinition $PTDef -WorkSheetname Files -Show"
            ],
            "metadata": {
                "azdata_cell_guid": "702b0677-5793-4422-83e7-834148c9a858",
                "tags": []
            },
            "outputs": [],
            "execution_count": null
        },
        {
            "cell_type": "markdown",
            "source": [
                "As we can see at the bottom we have three new sheets with a single pivot table in each ![](0505_multiple.png)\n",
                "\n",
                "Sometimes we would like to have more than one pivot table on one sheet. To do so, we need the set the **Address** property."
            ],
            "metadata": {
                "azdata_cell_guid": "83fcd405-0beb-44b3-89da-6444cc983004"
            }
        },
        {
            "cell_type": "code",
            "source": [
                "# cleanup the new sheets first\r\n",
                "Remove-Worksheet -Path $excelFile -WorksheetName P1, P2, P3\r\n",
                "\r\n",
                "# load the Excel Package (and close Excel)\r\n",
                "$excelPackage = Open-ExcelPackage -Path $excelFile -KillExcel\r\n",
                "\r\n",
                "# get the list of pivot tables definitions\r\n",
                "$PTDef2 = [ordered]@{}\r\n",
                "\r\n",
                "$PTDef2.P1=@{\r\n",
                "    SourceWorkSheet = $excelPackage.Services\r\n",
                "    PivotRows       = @(\"Status\")\r\n",
                "    PivotColumns    = @(\"StartType\")\r\n",
                "    PivotData       = @{'Name' = 'count'}\r\n",
                "    NoTotalsInPivot = $true\r\n",
                "}\r\n",
                "\r\n",
                "$PTDef2.P2=@{\r\n",
                "    SourceWorkSheet = $excelPackage.Files\r\n",
                "    PivotRows       = @(\"CreationTime\")\r\n",
                "    PivotColumns    = @(\"Extension\")\r\n",
                "    PivotData       = @{'Name' = 'count'}\r\n",
                "    PivotTableStyle = 'Light21'\r\n",
                "}\r\n",
                "\r\n",
                "Export-Excel -Path $excelFile -AutoSize -WorkSheetname Processes -PivotTableDefinition $PTDef2 -Show"
            ],
            "metadata": {
                "azdata_cell_guid": "87f19fe7-1b7c-48ff-9ee5-8dd9b0d2262f"
            },
            "outputs": [],
            "execution_count": null
        },
        {
            "cell_type": "markdown",
            "source": [
                "Another approach is to define the first pivot table, and in the next step we can change properties to create another table within the same sheet."
            ],
            "metadata": {
                "azdata_cell_guid": "98dc94a7-9280-4acf-a422-c5dcb7ca5d3e"
            }
        },
        {
            "cell_type": "code",
            "source": [
                "# cleanup the new sheets first\r\n",
                "Remove-Worksheet -Path $excelFile -WorksheetName P1, P2, P3\r\n",
                "\r\n",
                "# load the Excel Package (and close Excel)\r\n",
                "$excelPackage = Open-ExcelPackage -Path $excelFile -KillExcel\r\n",
                "\r\n",
                "# add an empty sheet as a place for future pivot tables\r\n",
                "Add-Worksheet -ExcelPackage $excelPackage -WorksheetName AllPivots -ClearSheet\r\n",
                "\r\n",
                "# define first pivot table\r\n",
                "$PTDef3 = @{\r\n",
                "    PivotTableName  = \"P1\"\r\n",
                "    Address         = $excelPackage.AllPivots.cells[\"A1\"]\r\n",
                "    SourceWorkSheet = $excelPackage.Services\r\n",
                "    PivotRows       = @(\"Status\")\r\n",
                "    PivotColumns    = @(\"StartType\")\r\n",
                "    PivotData       = @{'Name' = 'count'}\r\n",
                "    NoTotalsInPivot = $true\r\n",
                "}\r\n",
                "\r\n",
                "# create the first pivot table\r\n",
                "Add-PivotTable @PTDef3\r\n",
                "\r\n",
                "# update some parameters to define another pivot table\r\n",
                "$PTDef3.PivotTableName = \"P2\"\r\n",
                "$PTDef3.Address = $excelPackage.AllPivots.cells[\"F1\"] # this is a left-top corner of the new pivot table\r\n",
                "$PTDef3.SourceWorkSheet = $excelPackage.Files\r\n",
                "$PTDef3.PivotRows = @(\"CreationTime\")\r\n",
                "$PTDef3.PivotColumns = @(\"Extension\")\r\n",
                "$PTDef3.PivotData= @{'Name' = 'count'}\r\n",
                "$PTDef3.PivotTableStyle = 'Light21'\r\n",
                "\r\n",
                "# create the second pivot table\r\n",
                "Add-PivotTable @PTDef3 -Activate\r\n",
                "\r\n",
                "# save it to the file and display\r\n",
                "Close-ExcelPackage -ExcelPackage $excelPackage -Show"
            ],
            "metadata": {
                "azdata_cell_guid": "276a886e-fe8b-4322-9cb2-0bb075a5fe5c"
            },
            "outputs": [],
            "execution_count": null
        },
        {
            "cell_type": "markdown",
            "source": [
                "[Back to Top](#top)"
            ],
            "metadata": {
                "azdata_cell_guid": "eb6724ad-85a4-41de-8421-c8af3d509c38"
            }
        },
        {
            "cell_type": "markdown",
            "source": [
                "<a id='06'></a>\r\n",
                "# 06. How to manage Excel pivot charts  with PowerShell?\r\n",
                "\r\n",
                "Great, now we know how to handle pivot tables in Excel. What about pivot charts? There might be a need for some visualisation of the report."
            ],
            "metadata": {
                "azdata_cell_guid": "45d75e83-f26b-42bb-aab9-e1b0e6655ffc"
            }
        },
        {
            "cell_type": "code",
            "source": [
                "# set the spreadsheet name\r\n",
                "$excelFiles = \"MikeyAtFestiveTechCalendar06.xlsx\"\r\n",
                "\r\n",
                "# set location to the temp folder on your machine\r\n",
                "Set-Location $env:TEMP\r\n",
                "\r\n",
                "# path to the file\r\n",
                "$excelFile = \"$env:TEMP\\$excelFiles\"\r\n",
                "Write-Verbose -Verbose -Message  \"Save location: $excelFile\"\r\n",
                "\r\n",
                "# make sure the files do not exist before work\r\n",
                "Remove-Item $excelFiles -ErrorAction Ignore"
            ],
            "metadata": {
                "azdata_cell_guid": "4b4c9337-b56b-4185-a7ae-21da8ea9a8d2"
            },
            "outputs": [],
            "execution_count": null
        },
        {
            "cell_type": "markdown",
            "source": [
                "Creating pivot charts requires only few additions in compare to plain pivot table (behind the scenes it is using **Add-ExcelChart** function. Firstly, create a spreadsheet with some data in it."
            ],
            "metadata": {
                "azdata_cell_guid": "f3a23875-5430-413e-97e7-e73163eca5b6"
            }
        },
        {
            "cell_type": "code",
            "source": [
                "# let's grab details of the services on the computer again\r\n",
                "$services = Get-Service | SELECT Name, Status, StartType, CanStop"
            ],
            "metadata": {
                "azdata_cell_guid": "185660b3-4cf4-46c7-a988-cab303aa86a2"
            },
            "outputs": [],
            "execution_count": null
        },
        {
            "cell_type": "markdown",
            "source": [
                "Now, we are going to define the pivot table and pivot chart."
            ],
            "metadata": {
                "azdata_cell_guid": "60a7d0c2-cf24-459f-9028-0d71f6141c2e"
            }
        },
        {
            "cell_type": "code",
            "source": [
                "# define the pivot table and chart combo\r\n",
                "$PTCDef.PivotServices=@{\r\n",
                "    SourceWorkSheet='Services'\r\n",
                "    PivotRows = \"Status\"\r\n",
                "    PivotData= @{'Status'='count'}\r\n",
                "    IncludePivotChart=$true\r\n",
                "    ChartType='ColumnClustered'\r\n",
                "}\r\n",
                "\r\n",
                "# add pivot table as well as data sheet with information about services\r\n",
                "$services | Export-Excel -Path $excelFile -AutoSize -WorkSheetname Services -PivotTableDefinition $PTCDef -Activate -Show"
            ],
            "metadata": {
                "azdata_cell_guid": "7024409a-1cf8-4d80-adb1-41a672d8a073"
            },
            "outputs": [],
            "execution_count": null
        },
        {
            "cell_type": "markdown",
            "source": [
                "The example output is simple, however we will see more in the section of regular charts.\r\n",
                "![](0601_pivotchart.png)"
            ],
            "metadata": {
                "azdata_cell_guid": "a8dfd010-5273-4093-9757-5d2c35369375"
            }
        },
        {
            "cell_type": "markdown",
            "source": [
                "[Back to Top](#top)"
            ],
            "metadata": {
                "azdata_cell_guid": "95902d97-d0fe-409d-b6e4-a7d73ba3ea2d"
            }
        },
        {
            "cell_type": "markdown",
            "source": [
                "<a id='07'></a>\n",
                "# 07. How to manage Excel charts with PowerShell?\n",
                "\n",
                "The pivot chart was a teaser for the next topic - Excel charts! We are going to create a few charts here."
            ],
            "metadata": {
                "azdata_cell_guid": "336efa51-c857-4c81-a857-926e58d33d16"
            }
        },
        {
            "cell_type": "code",
            "source": [
                "# set the spreadsheet name\r\n",
                "$excelFiles = \"MikeyAtFestiveTechCalendar07.xlsx\"\r\n",
                "\r\n",
                "# set location to the temp folder on your machine\r\n",
                "Set-Location $env:TEMP\r\n",
                "\r\n",
                "# path to the file\r\n",
                "$excelFile = \"$env:TEMP\\$excelFiles\"\r\n",
                "Write-Verbose -Verbose -Message  \"Save location: $excelFile\"\r\n",
                "\r\n",
                "# make sure the files do not exist before work\r\n",
                "Remove-Item $excelFiles -ErrorAction Ignore"
            ],
            "metadata": {
                "azdata_cell_guid": "e378c76f-e017-4b66-bd44-da691a6278c4"
            },
            "outputs": [],
            "execution_count": null
        },
        {
            "cell_type": "markdown",
            "source": [
                "Before we create any chart we need some data. In the below secion we are going to generate some data using trigonometric functions:"
            ],
            "metadata": {
                "azdata_cell_guid": "6ae3f4cb-2cb3-4e35-b54c-bd40d555fdb9"
            }
        },
        {
            "cell_type": "code",
            "source": [
                "# create an array with the data\r\n",
                "$math = @()\r\n",
                "for ($i=0;$i -lt 721; $i++) {\r\n",
                "    $r = $i/180*3.14\r\n",
                "    $math += [pscustomobject]@{ Angle = $i; Sin = [math]::Sin($r); Cos = [math]::Cos($r); Tan = [math]::Tan($r); Cosh = [math]::Cosh($r) }\r\n",
                "}\r\n",
                "\r\n",
                "# export data first\r\n",
                "$math | Export-Excel -Path $excelFile -WorksheetName Math -AutoSize -TableName Math -KillExcel -Show"
            ],
            "metadata": {
                "azdata_cell_guid": "dedec379-b751-48de-bb84-f224ea74f65b"
            },
            "outputs": [],
            "execution_count": null
        },
        {
            "cell_type": "markdown",
            "source": [
                "Here are the data in one worksheet. ![](0701_math.png)\n",
                "<a id='0701'></a>\n",
                "## <mark>Excel charts with PowerShell - single chart</mark>\n",
                "Let's see what we can plot now by creating the chart definiton and passing it to the **Export-Excel** function using **New-ExcelChartDefinition**."
            ],
            "metadata": {
                "azdata_cell_guid": "7b357fcc-458d-421a-a372-70a3d34707bf"
            }
        },
        {
            "cell_type": "code",
            "source": [
                "# define the chart\r\n",
                "$chartDef1 = @{\r\n",
                "    Title  \t= \"Sin(x) & Cos(x)\"\r\n",
                "    ChartType \t= \"Line\"\r\n",
                "    XRange \t= \"Math[Angle]\"\r\n",
                "    YRange      = @(\"Math[Cos]\",\"Math[Sin]\")\r\n",
                "    SeriesHeader= \"Cos(x)\",\"Sin(x)\"\r\n",
                "    Row       \t= 0\r\n",
                "    Column \t= 0\r\n",
                "    Width \t=  350 \r\n",
                "    Height \t= 250\r\n",
                "}\r\n",
                "\r\n",
                "# add the chart to another worksheet\r\n",
                "Export-Excel -Path $excelFile -WorksheetName MathChart -ExcelChartDefinition (New-ExcelChartDefinition @chartDef1) -Activate -KillExcel -Show"
            ],
            "metadata": {
                "azdata_cell_guid": "683a0489-e8d0-41b2-99a5-c154115c760a"
            },
            "outputs": [],
            "execution_count": null
        },
        {
            "cell_type": "markdown",
            "source": [
                "After running the code above we should get similar output. Two series on a single chart. Great!\r\n",
                "![](0701_sin.png)\r\n",
                "\r\n",
                "<a id='0702'></a>\r\n",
                "## <mark>Excel charts with PowerShell - multiple charts</mark>\r\n",
                "In some cases we might want to have more than one chart on our screen. Let's see how to achive that with the ImportExcel module adding some extra control over our charts (**width** & **height** and positioning on the sheet **row** & **column**).\r\n",
                "\r\n",
                "We are going to define multiple charts first and then pass it to the main function of the module **Export-Excel**."
            ],
            "metadata": {
                "azdata_cell_guid": "5b61df27-0dd1-48fb-9744-c2ea97a545b0"
            }
        },
        {
            "cell_type": "code",
            "source": [
                "# define multiple charts\r\n",
                "\r\n",
                "$chartDef1 = @{\r\n",
                "    Title  \t= \"Sin(x) and Cos(x)\"\r\n",
                "    ChartType \t= \"Line\"\r\n",
                "    XRange \t= \"Math[Angle]\"\r\n",
                "    YRange      = @(\"Math[Cos]\",\"Math[Sin]\")\r\n",
                "    SeriesHeader= \"Cos(x)\",\"Sin(x)\"\r\n",
                "    Width \t=  350 \r\n",
                "    Height \t= 250\r\n",
                "    Row       \t= 0\r\n",
                "    Column \t= 0\r\n",
                "}\r\n",
                "\r\n",
                "$chartDef2 = @{\r\n",
                "    Title  \t= \"Cosh(x)\"\r\n",
                "    ChartType \t= \"Line\"\r\n",
                "    XRange \t= \"Math[Angle]\"\r\n",
                "    YRange      = @(\"Math[Cosh]\")\r\n",
                "    SeriesHeader= \"Cosh(x)\"\r\n",
                "    Width \t=  350 \r\n",
                "    Height \t= 250\r\n",
                "    Row       \t= 0\r\n",
                "    Column \t= 6 \r\n",
                "}\r\n",
                "\r\n",
                "\r\n",
                "$chartDef3 = @{\r\n",
                "    Title  \t= \"Tan(x)\"\r\n",
                "    ChartType \t= \"Line\"\r\n",
                "    XRange \t= \"Math[Angle]\"\r\n",
                "    YRange      = @(\"Math[Tan]\")\r\n",
                "    SeriesHeader= \"Tan(x)\"\r\n",
                "    Width \t=  350 \r\n",
                "    Height \t= 250\r\n",
                "    Row       \t= 0\r\n",
                "    Column \t= 12\r\n",
                "    YMaxValue = 100\r\n",
                "}\r\n",
                "\r\n",
                "# assign each definition to the variable\r\n",
                "$chart1 = New-ExcelChartDefinition @chartDef1\r\n",
                "$chart2 = New-ExcelChartDefinition @chartDef2\r\n",
                "$chart3 = New-ExcelChartDefinition @chartDef3\r\n",
                "\r\n",
                "# add the charts to another worksheet\r\n",
                "Export-Excel -Path $excelFile -WorksheetName MathChartFeast -ExcelChartDefinition $chart1,$chart2,$chart3 -Activate -KillExcel -Show"
            ],
            "metadata": {
                "azdata_cell_guid": "e2683833-a663-45ad-ba98-7c50323155ed"
            },
            "outputs": [],
            "execution_count": null
        },
        {
            "cell_type": "markdown",
            "source": [
                "Isn't that pretty?\r\n",
                "![](0702_multiple.png)"
            ],
            "metadata": {
                "azdata_cell_guid": "3bee06e7-c0fc-464f-a717-fe08fe73d1a6"
            }
        },
        {
            "cell_type": "markdown",
            "source": [
                "<a id='08'></a>\n",
                "# 08. How to add Excel formula with PowerShell?\n",
                "\n",
                "Finally, we've got here. Time for formulas! Formulas in Excel are great and powerfull and when you combine it with PowerShell - be careful! It is a pure magic and you can do almost anything. Define some data first - we are going to use some electric cars comaprison:"
            ],
            "metadata": {
                "azdata_cell_guid": "5f98c82d-88d1-46f4-b218-944baad7c73c"
            }
        },
        {
            "cell_type": "code",
            "source": [
                "# set the spreadsheet name\r\n",
                "$excelFiles = \"MikeyAtFestiveTechCalendar08.xlsx\"\r\n",
                "\r\n",
                "# set location to the temp folder on your machine\r\n",
                "Set-Location $env:TEMP\r\n",
                "\r\n",
                "# path to the file\r\n",
                "$excelFile = \"$env:TEMP\\$excelFiles\"\r\n",
                "Write-Verbose -Verbose -Message  \"Save location: $excelFile\"\r\n",
                "\r\n",
                "# make sure the files do not exist before work\r\n",
                "Remove-Item $excelFiles -ErrorAction Ignore\r\n",
                "\r\n",
                "# get some data\r\n",
                "$EV = Get-HtmlTable -Url 'https://www.nextgreencar.com/features/7943/ngcs-ev-price-vs-range-comparison/'\r\n",
                "$EV | Export-Excel -Path $excelFile -WorkSheetname EV"
            ],
            "metadata": {
                "azdata_cell_guid": "1a33a90f-494a-45ed-a634-63c96891dcc1"
            },
            "outputs": [
                {
                    "output_type": "stream",
                    "name": "stdout",
                    "text": "VERBOSE: Save location: C:\\Users\\micha\\AppData\\Local\\Temp\\MikeyAtFestiveTechCalendar08.xlsx\n"
                },
                {
                    "output_type": "stream",
                    "name": "stdout",
                    "text": ""
                }
            ],
            "execution_count": 25
        },
        {
            "cell_type": "markdown",
            "source": [
                "Next, we are going to modify some of the cells in our worksheet:"
            ],
            "metadata": {
                "azdata_cell_guid": "2acf8cfd-ddd1-40e5-bd40-801b74937394"
            }
        },
        {
            "cell_type": "code",
            "source": [
                "# load the Excel Package (and close Excel)\r\n",
                "$excelPackage = Open-ExcelPackage -Path $excelFile -KillExcel\r\n",
                "\r\n",
                "# get the worksheet\r\n",
                "$excel = $excelPackage.Workbook.Worksheets['EV']\r\n",
                "\r\n",
                "# set the valus/formulas for the cells\r\n",
                "Set-ExcelRange -Worksheet $excel -Range 'B1' -Value 'Range'\r\n",
                "Set-ExcelRange -Worksheet $excel -Range 'C1' -Value 'Price'\r\n",
                "Set-ExcelRange -Worksheet $excel -Range 'D1' -Value '5Letters'\r\n",
                "Set-ExcelRange -Worksheet $excel -Range 'E1' -Value 'Price/Range'\r\n",
                "Set-ExcelRange -Worksheet $excel -Range 'F1' -Value 'IsTesla'\r\n",
                "Set-ExcelRange -Worksheet $excel -Range 'D2:D33' -Formula '=LEFT(A2,5)'\r\n",
                "Set-ExcelRange -Worksheet $excel -Range 'E2:E33' -Formula 'C2 / B2'\r\n",
                "Set-ExcelRange -Worksheet $excel -Range 'F2:F33' -Formula '=NOT(ISERROR(FIND(\"Tesla\",A2)))'\r\n",
                "\r\n",
                "# save it to the file and display\r\n",
                "Close-ExcelPackage -ExcelPackage $excelPackage -Show"
            ],
            "metadata": {
                "azdata_cell_guid": "b4f88f45-eeb2-4a3d-a88b-b88fa9ebd752"
            },
            "outputs": [
                {
                    "output_type": "stream",
                    "name": "stdout",
                    "text": ""
                }
            ],
            "execution_count": 26
        },
        {
            "cell_type": "markdown",
            "source": [
                "And here it is:\r\n",
                "![](0801_formulas.png)\r\n",
                "\r\n",
                "\r\n",
                "Thank you very much for the "
            ],
            "metadata": {
                "azdata_cell_guid": "2ae7fe77-5a1d-48e0-b9d7-7edc15636361"
            }
        },
        {
            "cell_type": "markdown",
            "source": [
                "[Back to Top](#top)"
            ],
            "metadata": {
                "azdata_cell_guid": "305e2e24-b3bd-49c1-be7c-c7b470688d33"
            }
        }
    ]
}