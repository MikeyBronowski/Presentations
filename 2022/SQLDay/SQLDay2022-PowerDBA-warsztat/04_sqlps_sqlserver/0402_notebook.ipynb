{
    "metadata": {
        "kernelspec": {
            "name": "SQL",
            "display_name": "SQL",
            "language": "sql"
        },
        "language_info": {
            "name": "sql",
            "version": ""
        }
    },
    "nbformat_minor": 2,
    "nbformat": 4,
    "cells": [
        {
            "cell_type": "code",
            "source": [
                "select @@servername, Getdate()"
            ],
            "metadata": {
                "azdata_cell_guid": "e98c3b14-3c4e-4c64-a8b9-74bb58f204fb"
            },
            "outputs": [],
            "execution_count": null
        }
    ]
}